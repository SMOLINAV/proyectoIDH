{
  "nbformat": 4,
  "nbformat_minor": 0,
  "metadata": {
    "colab": {
      "provenance": [],
      "authorship_tag": "ABX9TyPA8xUt6qm/3soJTDniXt2L",
      "include_colab_link": true
    },
    "kernelspec": {
      "name": "python3",
      "display_name": "Python 3"
    },
    "language_info": {
      "name": "python"
    }
  },
  "cells": [
    {
      "cell_type": "markdown",
      "metadata": {
        "id": "view-in-github",
        "colab_type": "text"
      },
      "source": [
        "<a href=\"https://colab.research.google.com/github/SMOLINAV/proyectoIDH/blob/main/IDH.ipynb\" target=\"_parent\"><img src=\"https://colab.research.google.com/assets/colab-badge.svg\" alt=\"Open In Colab\"/></a>"
      ]
    },
    {
      "cell_type": "code",
      "execution_count": 1,
      "metadata": {
        "colab": {
          "base_uri": "https://localhost:8080/"
        },
        "id": "iegFoNGIdUFp",
        "outputId": "c660654b-2ad7-4138-c9cc-748e6d5ce775"
      },
      "outputs": [
        {
          "output_type": "stream",
          "name": "stdout",
          "text": [
            "Ingresa el nombre del país para obtener su crecimiento IDH más reciente: suiza\n",
            "El crecimiento del IDH más reciente de Suiza es: 0002\n"
          ]
        }
      ],
      "source": [
        "import pandas as pd\n",
        "\n",
        "\n",
        "def obtener_crecimiento_idh(pais):\n",
        "    '''\n",
        "    Función para obtener el crecimiento del IDH más reciente de un país en particular\n",
        "    args:\n",
        "        pais (str): nombre del país\n",
        "    returns:\n",
        "        str: crecimiento del IDH más reciente del país\n",
        "        None: si no se encuentra la información\n",
        "    '''\n",
        "    # URL de la página web\n",
        "    url = \"https://es.wikipedia.org/wiki/Anexo:Pa%C3%ADses_por_%C3%ADndice_de_desarrollo_humano\"\n",
        "\n",
        "    # Leer las tablas de la página\n",
        "    tablas = pd.read_html(url)\n",
        "\n",
        "    # Buscar el país en la primera columna de la primera tabla\n",
        "    for tabla in tablas:\n",
        "        if \"País\" in tabla.columns:\n",
        "            for fila in tabla.itertuples(index=False):\n",
        "                for elemento in fila:\n",
        "                    if str(pais).lower() in str(elemento).lower():\n",
        "                        ultimo_idh = fila[-1].strip()\n",
        "                        return ultimo_idh\n",
        "\n",
        "    # Si no se encontró información sobre el país, devolver None\n",
        "    return None\n",
        "\n",
        "\n",
        "# Pedir al usuario que ingrese el nombre del país\n",
        "nombre_pais = input(\"Ingresa el nombre del país para obtener su crecimiento IDH más reciente: \")\n",
        "\n",
        "\n",
        "# Obtener el crecimiento del IDH del país ingresado por el usuario\n",
        "crecimiento_idh = obtener_crecimiento_idh(nombre_pais)\n",
        "\n",
        "if crecimiento_idh:\n",
        "    print(f\"El crecimiento del IDH más reciente de {nombre_pais.capitalize()} es: {crecimiento_idh}\")\n",
        "else:\n",
        "    print(f\"No se encontró información sobre el crecimiento del IDH de {nombre_pais}\")\n"
      ]
    }
  ]
}